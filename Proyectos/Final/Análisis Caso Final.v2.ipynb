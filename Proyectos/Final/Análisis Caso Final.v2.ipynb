{
    "cells": [
        {
            "attachments": {},
            "cell_type": "markdown",
            "metadata": {
                "azdata_cell_guid": "43094d38-2acc-463a-bdf3-97ba90623fe5",
                "id": "a62202dd"
            },
            "source": [
                "# 📊 Caso de análisis: Emisiones de dióxido de carbono por país (1975-2017)\n",
                "## 🧠 Objetivo:\n",
                "Los estudiantes deben analizar la evolución de las emisiones de CO₂ en varios países desde 1975 hasta 2017, distinguiendo entre:\n",
                "\n",
                "- Emisiones totales: Miden la cantidad total de CO₂ emitido en un país.\n",
                "\n",
                "- Emisiones per cápita: Indican cuántas toneladas métricas de CO₂ emite, en promedio, una persona en ese país."
            ]
        },
        {
            "attachments": {},
            "cell_type": "markdown",
            "metadata": {
                "azdata_cell_guid": "aaf7af2f-c9dd-4e9e-9de1-6543ad2e0064"
            },
            "source": [
                "## <mark>Estudiante: \\> Antonio Sánchez Zárate</mark>"
            ]
        },
        {
            "cell_type": "markdown",
            "metadata": {
                "azdata_cell_guid": "5d6834bd-ea61-4f0a-b586-a118753e31a9",
                "id": "e21e6b1c"
            },
            "source": [
                "## Contexto\n"
            ]
        },
        {
            "cell_type": "markdown",
            "metadata": {
                "azdata_cell_guid": "5b449223-cfd9-4324-8796-a7688878110c",
                "id": "c4c7df65"
            },
            "source": [
                "🌍 Análisis de Emisiones de CO₂ – Caso Práctico\n",
                "📁 Archivo: Carbon_Dioxide_Emission_Estimates.csv\n",
                "Contiene datos de emisiones de dióxido de carbono (CO₂) de varios países entre 1975 y 2017.\n",
                "\n",
                "🧾 Estructura de los datos\n",
                "- Country: País\n",
                "\n",
                "- Year: Año\n",
                "\n",
                "- Type: Tipo de emisión:\n",
                "\n",
                "    * Emisiones totales (kilotoneladas métricas)\n",
                "\n",
                "    * Emisiones per cápita (toneladas métricas por persona)\n",
                "\n",
                "- Value: Valor numérico de la emisión\n",
                "\n",
                "🔍 Tipos de emisiones\n",
                "- Totales: CO₂ emitido por todo el país (kt)\n",
                "\n",
                "- Per cápita: CO₂ promedio por persona (t CO₂/persona)\n",
                "\n",
                "    - Se calcula dividiendo emisiones totales por la población"
            ]
        },
        {
            "cell_type": "code",
            "execution_count": 20,
            "metadata": {},
            "outputs": [],
            "source": [
                "#Importa el CSV como un DataFrame\n",
                "\n",
                "import pandas as pd\n",
                "\n",
                "\n",
                "df = pd.read_csv(\"Estimaciones_Emisiones_Dioxido_Carbono.csv\", encoding=\"utf-8\")"
            ]
        },
        {
            "cell_type": "markdown",
            "metadata": {
                "azdata_cell_guid": "32151a06-fbc4-4fc0-9810-bdd34abdb6fd",
                "id": "352UFM-aEWCT"
            },
            "source": [
                "# Pregunta 0\n",
                "\n",
                "1. Crear un dataframe con el nombre de variable 'df_emisions_co2' usando únicamente las filas cuya columna 'Type' tiene el valor 'Emisiones totales de CO₂ emitidas por el país'\n",
                "\n",
                "2. Crear un dataframe con el nombre de variable 'df_emisions_co2_per_capita' usando únicamente las filas cuya columna 'Type' tiene el valor 'Emisiones promedio de CO₂ emitidas por habitante'."
            ]
        },
        {
            "cell_type": "code",
            "execution_count": 21,
            "metadata": {},
            "outputs": [
                {
                    "name": "stdout",
                    "output_type": "stream",
                    "text": [
                        "['Emisiones (kilotoneladas m�tricas de di�xido de carbono)'\n",
                        " 'Emisiones per capita (toneladas m�tricas de di�xido de carbono)']\n",
                        "       Country  Year                                               Type  \\\n",
                        "0      Albania  1975  Emisiones (kilotoneladas m�tricas de di�xido d...   \n",
                        "1      Albania  1985  Emisiones (kilotoneladas m�tricas de di�xido d...   \n",
                        "2      Albania  1995  Emisiones (kilotoneladas m�tricas de di�xido d...   \n",
                        "3      Albania  2005  Emisiones (kilotoneladas m�tricas de di�xido d...   \n",
                        "4      Albania  2010  Emisiones (kilotoneladas m�tricas de di�xido d...   \n",
                        "...        ...   ...                                                ...   \n",
                        "2119  Zimbabwe  2005  Emisiones (kilotoneladas m�tricas de di�xido d...   \n",
                        "2120  Zimbabwe  2010  Emisiones (kilotoneladas m�tricas de di�xido d...   \n",
                        "2121  Zimbabwe  2015  Emisiones (kilotoneladas m�tricas de di�xido d...   \n",
                        "2122  Zimbabwe  2016  Emisiones (kilotoneladas m�tricas de di�xido d...   \n",
                        "2123  Zimbabwe  2017  Emisiones (kilotoneladas m�tricas de di�xido d...   \n",
                        "\n",
                        "          Value  \n",
                        "0      4338.334  \n",
                        "1      6929.926  \n",
                        "2      1848.549  \n",
                        "3      3825.184  \n",
                        "4      3930.295  \n",
                        "...         ...  \n",
                        "2119  10272.774  \n",
                        "2120   9464.714  \n",
                        "2121  11822.362  \n",
                        "2122  10368.900  \n",
                        "2123   9714.938  \n",
                        "\n",
                        "[1066 rows x 4 columns]\n"
                    ]
                }
            ],
            "source": [
                "#Crea un copia del original filtrado como df_emisions_co2\n",
                "print(df['Type'].unique())\n",
                "\n",
                "df_emissions_co2 = df[df['Type'] == 'Emisiones (kilotoneladas m�tricas de di�xido de carbono)']\n",
                "\n",
                "print(df_emissions_co2)"
            ]
        },
        {
            "cell_type": "code",
            "execution_count": 22,
            "metadata": {},
            "outputs": [
                {
                    "name": "stdout",
                    "output_type": "stream",
                    "text": [
                        "       Country  Year                                               Type  \\\n",
                        "0      Albania  1975  Emisiones (kilotoneladas m�tricas de di�xido d...   \n",
                        "1      Albania  1985  Emisiones (kilotoneladas m�tricas de di�xido d...   \n",
                        "2      Albania  1995  Emisiones (kilotoneladas m�tricas de di�xido d...   \n",
                        "3      Albania  2005  Emisiones (kilotoneladas m�tricas de di�xido d...   \n",
                        "4      Albania  2010  Emisiones (kilotoneladas m�tricas de di�xido d...   \n",
                        "...        ...   ...                                                ...   \n",
                        "2119  Zimbabwe  2005  Emisiones (kilotoneladas m�tricas de di�xido d...   \n",
                        "2120  Zimbabwe  2010  Emisiones (kilotoneladas m�tricas de di�xido d...   \n",
                        "2121  Zimbabwe  2015  Emisiones (kilotoneladas m�tricas de di�xido d...   \n",
                        "2122  Zimbabwe  2016  Emisiones (kilotoneladas m�tricas de di�xido d...   \n",
                        "2123  Zimbabwe  2017  Emisiones (kilotoneladas m�tricas de di�xido d...   \n",
                        "\n",
                        "          Value  \n",
                        "0      4338.334  \n",
                        "1      6929.926  \n",
                        "2      1848.549  \n",
                        "3      3825.184  \n",
                        "4      3930.295  \n",
                        "...         ...  \n",
                        "2119  10272.774  \n",
                        "2120   9464.714  \n",
                        "2121  11822.362  \n",
                        "2122  10368.900  \n",
                        "2123   9714.938  \n",
                        "\n",
                        "[1066 rows x 4 columns]\n"
                    ]
                }
            ],
            "source": [
                "#Crea un copia del original filtrado como df_emisions_co2_per_capita\n",
                "\n",
                "df_emissions_co2_per_capita = df[df['Type'] == 'Emisiones per capita (toneladas m�tricas de di�xido de carbono)']\n",
                "\n",
                "print(df_emissions_co2)"
            ]
        },
        {
            "cell_type": "markdown",
            "metadata": {
                "azdata_cell_guid": "66dbee89-6a74-42d6-b532-a95779ccc82a",
                "id": "d6bd6661"
            },
            "source": [
                "# Pregunta 1"
            ]
        },
        {
            "cell_type": "markdown",
            "metadata": {
                "azdata_cell_guid": "b30cf472-64d8-453a-b581-4d01915e9a38",
                "id": "3299b6b5"
            },
            "source": [
                "Cuántas filas tiene el dataframe 'df_emisions_co2'?"
            ]
        },
        {
            "cell_type": "code",
            "execution_count": 23,
            "metadata": {
                "azdata_cell_guid": "63fba01e-a296-4e37-badf-df51ee463964",
                "id": "f02d60cc",
                "language": "python"
            },
            "outputs": [
                {
                    "name": "stdout",
                    "output_type": "stream",
                    "text": [
                        "El dataframe df_emisions_co2 tiene: 1066 filas\n"
                    ]
                }
            ],
            "source": [
                "# Coloque el código que responda a la pregunta aqui\n",
                "\n",
                "numero_de_filas =len(df_emissions_co2)\n",
                "\n",
                "print(\"El dataframe df_emisions_co2 tiene:\", numero_de_filas, \"filas\") #df_emisions_co2 tiene 1066 filas \n"
            ]
        },
        {
            "cell_type": "markdown",
            "metadata": {
                "azdata_cell_guid": "5f8f7bed-99e7-4c3b-b621-d430915552a9",
                "id": "880f891d"
            },
            "source": [
                "# Pregunta 2"
            ]
        },
        {
            "cell_type": "markdown",
            "metadata": {
                "azdata_cell_guid": "3025751b-734d-491a-a0f2-e454076155fa",
                "id": "34700c9d"
            },
            "source": [
                "Cuál en el valor más alto de emisiones (en general) usando el dataframe 'df_emisions_co2'?"
            ]
        },
        {
            "cell_type": "code",
            "execution_count": 24,
            "metadata": {
                "azdata_cell_guid": "675d06d0-c52d-4848-8c84-b3503476d7e3",
                "id": "24bdf93a",
                "language": "python"
            },
            "outputs": [
                {
                    "name": "stdout",
                    "output_type": "stream",
                    "text": [
                        "El valor más alto de emisiones totales de CO₂ es: 9257933.9\n"
                    ]
                }
            ],
            "source": [
                "# Coloque el código que responda a la pregunta aqui exactamente lo que se pregunta\n",
                "\n",
                "valor_mas_alto = df_emissions_co2['Value'].max()\n",
                "\n",
                "print(f\"El valor más alto de emisiones totales de CO₂ es:\", valor_mas_alto)"
            ]
        },
        {
            "cell_type": "markdown",
            "metadata": {
                "azdata_cell_guid": "97637f7a-fb3b-4b24-a6e8-769427d8c984",
                "id": "7ebd3621"
            },
            "source": [
                "# Pregunta 3"
            ]
        },
        {
            "cell_type": "markdown",
            "metadata": {
                "azdata_cell_guid": "4f9d7b44-d0e8-4705-8fa0-9a84d56774cf",
                "id": "eb81f1c8"
            },
            "source": [
                "Cuántos países (Countries) hay en el dataframe 'df_emisions_co2'?"
            ]
        },
        {
            "cell_type": "code",
            "execution_count": 25,
            "metadata": {
                "azdata_cell_guid": "207fdf39-e7dd-4ac4-b3f4-a129a75f2a6d",
                "id": "4f60454b",
                "language": "python"
            },
            "outputs": [
                {
                    "name": "stdout",
                    "output_type": "stream",
                    "text": [
                        "Hay 142 países en el DataFrame df_emissions_co2.\n"
                    ]
                }
            ],
            "source": [
                "# Coloque el código que responda a la pregunta aqui exactamente lo que se pregunta\n",
                "\n",
                "cantidad_paises = df_emissions_co2['Country'].nunique()\n",
                "print(f\"Hay {cantidad_paises} países en el DataFrame df_emissions_co2.\")"
            ]
        },
        {
            "cell_type": "code",
            "execution_count": 26,
            "metadata": {
                "azdata_cell_guid": "52f1ec4f-654f-43c8-a541-2fe225b3a476",
                "id": "2f46faa0",
                "language": "python"
            },
            "outputs": [
                {
                    "name": "stdout",
                    "output_type": "stream",
                    "text": [
                        "['Albania' 'Algeria' 'Angola' 'Argentina' 'Armenia' 'Australia' 'Austria'\n",
                        " 'Azerbaijan' 'Bahrain' 'Bangladesh' 'Belarus' 'Belgium' 'Benin'\n",
                        " 'Bolivia (Plurin. State of)' 'Bosnia and Herzegovina' 'Botswana' 'Brazil'\n",
                        " 'Brunei Darussalam' 'Bulgaria' 'Cambodia' 'Cameroon' 'Canada' 'Chile'\n",
                        " 'China' 'China Hong Kong SAR' 'Colombia' 'Congo' 'Costa Rica'\n",
                        " 'Côte d’Ivoire' 'Croatia' 'Cuba' 'Curaçao' 'Cyprus' 'Czechia'\n",
                        " \"Dem. People's Rep. Korea\" 'Dem. Rep. of the Congo' 'Denmark'\n",
                        " 'Dominican Republic' 'Ecuador' 'Egypt' 'El Salvador' 'Eritrea' 'Estonia'\n",
                        " 'Ethiopia' 'Finland' 'France' 'Gabon' 'Georgia' 'Germany' 'Ghana'\n",
                        " 'Gibraltar' 'Greece' 'Guatemala' 'Haiti' 'Honduras' 'Hungary' 'Iceland'\n",
                        " 'India' 'Indonesia' 'Iran (Islamic Republic of)' 'Iraq' 'Ireland'\n",
                        " 'Israel' 'Italy' 'Jamaica' 'Japan' 'Jordan' 'Kazakhstan' 'Kenya' 'Kosovo'\n",
                        " 'Kuwait' 'Kyrgyzstan' 'Latvia' 'Lebanon' 'Libya' 'Lithuania' 'Luxembourg'\n",
                        " 'Malaysia' 'Malta' 'Mauritius' 'Mexico' 'Mongolia' 'Montenegro' 'Morocco'\n",
                        " 'Mozambique' 'Myanmar' 'Namibia' 'Nepal' 'Netherlands' 'New Zealand'\n",
                        " 'Nicaragua' 'Niger' 'Nigeria' 'Norway' 'Oman' 'Pakistan' 'Panama'\n",
                        " 'Paraguay' 'Peru' 'Philippines' 'Poland' 'Portugal' 'Qatar'\n",
                        " 'Republic of Korea' 'Republic of Moldova' 'Romania' 'Russian Federation'\n",
                        " 'Saudi Arabia' 'Senegal' 'Serbia' 'Singapore' 'Slovakia' 'Slovenia'\n",
                        " 'South Africa' 'South Sudan' 'Spain' 'Sri Lanka' 'Sudan' 'Suriname'\n",
                        " 'Sweden' 'Switzerland' 'Syrian Arab Republic' 'Tajikistan' 'Thailand'\n",
                        " 'North Macedonia' 'Togo' 'Trinidad and Tobago' 'Tunisia' 'Turkey'\n",
                        " 'Turkmenistan' 'Ukraine' 'United Arab Emirates' 'United Kingdom'\n",
                        " 'United Rep. of Tanzania' 'United States of America' 'Uruguay'\n",
                        " 'Uzbekistan' 'Venezuela (Boliv. Rep. of)' 'Viet Nam' 'Yemen' 'Zambia'\n",
                        " 'Zimbabwe']\n"
                    ]
                }
            ],
            "source": [
                "#Imprima un lista con todos los paises\n",
                "lista_paises = df_emissions_co2['Country'].unique()\n",
                "\n",
                "print(lista_paises)"
            ]
        },
        {
            "cell_type": "markdown",
            "metadata": {
                "azdata_cell_guid": "30e5c2d6-95aa-4bda-ad89-2b581a214d82",
                "id": "1e40352a"
            },
            "source": [
                "# Pregunta 4"
            ]
        },
        {
            "cell_type": "markdown",
            "metadata": {
                "azdata_cell_guid": "d4c1a6a0-d184-4feb-9c6e-a934c52d0343",
                "id": "80c46908"
            },
            "source": [
                "Cuál es el país que tiene mayor emisiones usando el dataframe 'df_emisions_co2'?"
            ]
        },
        {
            "cell_type": "code",
            "execution_count": 27,
            "metadata": {
                "azdata_cell_guid": "ee5ff21c-8288-42a9-9212-4d88ff639e85",
                "id": "e6df7d42",
                "language": "python"
            },
            "outputs": [
                {
                    "name": "stdout",
                    "output_type": "stream",
                    "text": [
                        "    Country  Year                                               Type  \\\n",
                        "353   China  2017  Emisiones (kilotoneladas m�tricas de di�xido d...   \n",
                        "\n",
                        "         Value  \n",
                        "353  9257933.9  \n",
                        "El país con mayo emisión es China\n"
                    ]
                }
            ],
            "source": [
                "# Coloque el código que responda a la pregunta aqui exactamente lo que se pregunta\n",
                "\n",
                "valor_maximo = df_emissions_co2[df_emissions_co2['Value'] == df_emissions_co2['Value'].max()]\n",
                "\n",
                "print(valor_maximo)\n",
                "\n",
                "print(\"El país con mayo emisión es China\")\n"
            ]
        },
        {
            "cell_type": "markdown",
            "metadata": {
                "azdata_cell_guid": "da6c194b-ecdd-42b0-82ca-210d6b74f57f",
                "id": "26c97fde"
            },
            "source": [
                "# Pregunta 5"
            ]
        },
        {
            "cell_type": "markdown",
            "metadata": {
                "azdata_cell_guid": "a5cf8867-358a-40cb-9933-027dd8e06aa3",
                "id": "541f44ca"
            },
            "source": [
                "Cuál es el año que tiene mayor emisiones para el país de Spain usando el dataframe 'df_emisions_co2'?"
            ]
        },
        {
            "cell_type": "code",
            "execution_count": 28,
            "metadata": {
                "azdata_cell_guid": "10e7e0fe-162a-4b2a-a01e-db2bd04b6865",
                "id": "c32f62d1",
                "language": "python"
            },
            "outputs": [
                {
                    "name": "stdout",
                    "output_type": "stream",
                    "text": [
                        "El año con mayor emisiones para Spain es: 2005\n"
                    ]
                }
            ],
            "source": [
                "# Coloque el código que responda a la pregunta aqui exactamente lo que se pregunta\n",
                "\n",
                "spain = df_emissions_co2[df_emissions_co2['Country'] == 'Spain'] #así veo solo las filas de España\n",
                "\n",
                "fecha_max = spain.loc[spain['Value'].idxmax(), 'Year'] \n",
                "\n",
                "print(f\"El año con mayor emisiones para Spain es: {fecha_max}\")"
            ]
        },
        {
            "cell_type": "markdown",
            "metadata": {
                "azdata_cell_guid": "78a2c35d-5ca9-4cc2-9890-05b367218238",
                "id": "55ce4564"
            },
            "source": [
                "# Pregunta 6"
            ]
        },
        {
            "cell_type": "markdown",
            "metadata": {
                "azdata_cell_guid": "048ff587-0368-4c8c-930d-678786aa18c3",
                "id": "3473e4f2"
            },
            "source": [
                "Cuáles son los años que se tiene registros para el dataframe 'df_emisions_co2_per_capita'?\n",
                "\n",
                "Entrege una lista con los años sin repetirse"
            ]
        },
        {
            "cell_type": "code",
            "execution_count": 29,
            "metadata": {
                "azdata_cell_guid": "75d9cbc6-d254-49d4-8cfc-7b0f74456608",
                "id": "5ad50924",
                "language": "python"
            },
            "outputs": [
                {
                    "name": "stdout",
                    "output_type": "stream",
                    "text": [
                        "[1975 1985 1995 2005 2010 2015 2016 2017]\n"
                    ]
                }
            ],
            "source": [
                "# Coloque el código que responda a la pregunta aqui exactamente lo que se pregunta\n",
                "años = df_emissions_co2_per_capita['Year'].unique()\n",
                "print(años)"
            ]
        },
        {
            "cell_type": "markdown",
            "metadata": {
                "azdata_cell_guid": "8cee75a7-4fcc-47eb-883a-641aa900bc51",
                "id": "18fa522e"
            },
            "source": [
                "# Pregunta 7"
            ]
        },
        {
            "cell_type": "markdown",
            "metadata": {
                "azdata_cell_guid": "8532f291-3bd2-4da4-9eb3-7ac69e49b4a5",
                "id": "2747ce42"
            },
            "source": [
                "Cuántas son las emisiones en 'kilotoneladas métricas' en total usando todos los países para el dataframe 'df_emisions_co2'?\n"
            ]
        },
        {
            "cell_type": "code",
            "execution_count": 30,
            "metadata": {
                "azdata_cell_guid": "3b4710af-d857-49ce-9b19-931839541d39",
                "id": "e8cbd117",
                "language": "python"
            },
            "outputs": [
                {
                    "name": "stdout",
                    "output_type": "stream",
                    "text": [
                        "El total de emisiones en kilotoneladas métricas es: 195028250.41599998\n"
                    ]
                }
            ],
            "source": [
                "# Coloque el código que responda a la pregunta aqui exactamente lo que se pregunta\n",
                "\n",
                "total_emisiones = df_emissions_co2['Value'].sum() #se suma solo lo de la columna value\n",
                "\n",
                "print(f\"El total de emisiones en kilotoneladas métricas es:\", total_emisiones)"
            ]
        },
        {
            "cell_type": "markdown",
            "metadata": {
                "azdata_cell_guid": "ddfe093b-e52f-4379-8062-efedfbddb684",
                "id": "42aa86db"
            },
            "source": [
                "# Pregunta 8"
            ]
        },
        {
            "cell_type": "markdown",
            "metadata": {
                "azdata_cell_guid": "ce742599-a5c4-41c7-87f1-7a881676c09f",
                "id": "a303974d"
            },
            "source": [
                "Cuántas son las emisiones en 'kilotoneladas métricas' sólo para Albania usando el dataframe 'df_emisions_co2'?\n"
            ]
        },
        {
            "cell_type": "code",
            "execution_count": 31,
            "metadata": {
                "azdata_cell_guid": "86c46d24-2812-47a3-aa64-fd2d6981cf9a",
                "id": "181ab815",
                "language": "python"
            },
            "outputs": [
                {
                    "name": "stdout",
                    "output_type": "stream",
                    "text": [
                        "Las emisiones totales de Albania en kilotoneladas métricas son: 32713.283000000003\n"
                    ]
                }
            ],
            "source": [
                "# Coloque el código que responda a la pregunta aqui exactamente lo que se pregunta\n",
                "emisiones_de_albania = df_emissions_co2[df_emissions_co2['Country'] == 'Albania']['Value'].sum() #se suman los valores de la columna value pero solo de Albania, igual que en el ejercicio de españa\n",
                "\n",
                "print(f\"Las emisiones totales de Albania en kilotoneladas métricas son:\", emisiones_de_albania)\n"
            ]
        },
        {
            "cell_type": "markdown",
            "metadata": {
                "azdata_cell_guid": "5d5b3bfb-2643-45d0-ba92-b53affb67c17",
                "id": "d084c9f3"
            },
            "source": [
                "# Pregunta 9"
            ]
        },
        {
            "cell_type": "markdown",
            "metadata": {
                "azdata_cell_guid": "acd10e28-cde4-48c3-bba9-eee6323b06cc",
                "id": "ae9cebff"
            },
            "source": [
                "Cuántas son las emisiones totales en 'libras' sólo para Costa Rica usando el dataframe 'df_emisions_co2'?\n"
            ]
        },
        {
            "cell_type": "code",
            "execution_count": 32,
            "metadata": {
                "azdata_cell_guid": "8c372164-c8f6-4e72-9fd3-2b7c1eaf0499",
                "id": "ee97d492",
                "language": "python"
            },
            "outputs": [
                {
                    "name": "stdout",
                    "output_type": "stream",
                    "text": [
                        "Las emisiones totales de Costa Rica en libras es de: 42223.107\n"
                    ]
                }
            ],
            "source": [
                "# Coloque el código que responda a la pregunta aqui exactamente lo que se pregunta\n",
                "#Lo pide en libras pero el dataframe solo tiene la info en klton métricas\n",
                "emisiones_de_CR = df_emissions_co2[df_emissions_co2['Country'] == 'Costa Rica']['Value'].sum()\n",
                "\n",
                "#Una tonelada equivale a 2 204,62 libras\n",
                "emisiones_en_libras = emisiones_de_CR * 2204.620\n",
                "\n",
                "print(f\"Las emisiones totales de Costa Rica en libras es de:\", emisiones_de_CR)"
            ]
        },
        {
            "cell_type": "markdown",
            "metadata": {
                "azdata_cell_guid": "e505d100-2c39-45a3-9c7d-70c1f83b268d",
                "id": "eb6dfc54"
            },
            "source": [
                "# Pregunta 10"
            ]
        },
        {
            "cell_type": "markdown",
            "metadata": {
                "azdata_cell_guid": "cfe25701-d219-459b-a108-75787ee1f8ae",
                "id": "5862817e"
            },
            "source": [
                "Para sólo 'Costa Rica' y suponiendo que las emisiones se estancan a partir del último año reportado (se mantiene igual). Cuántas son las emisiones en 'Kg' sólo para Costa Rica en el año desde el ultimo año hasta el 2025 usando el dataframe 'df_emisions_co2'?\n"
            ]
        },
        {
            "cell_type": "code",
            "execution_count": 33,
            "metadata": {
                "azdata_cell_guid": "c65ecf97-b679-4808-91cc-fe771ce12b6b",
                "id": "76ed009c",
                "language": "python"
            },
            "outputs": [
                {
                    "name": "stdout",
                    "output_type": "stream",
                    "text": [
                        "2017\n",
                        "7584.411\n",
                        "9\n",
                        "68259.699\n",
                        "Las emisiones de Costa Rica del 2017 al 2025 son: 68259698999.99999\n"
                    ]
                }
            ],
            "source": [
                "# Coloque el código que responda a la pregunta aqui exactamente lo que se pregunta\n",
                "#El último año es el 2017, es decir 8 años. Si se estancó, entonces tengo que multiplicar las emisiones del 2017 por 8.\n",
                "\n",
                "emisiones_de_CR = df_emissions_co2[df_emissions_co2['Country'] == 'Costa Rica']\n",
                "\n",
                "ultimo_año = df_emissions_co2[df_emissions_co2['Country'] == 'Costa Rica']['Year'].max()\n",
                "print(ultimo_año)\n",
                "\n",
                "ultima_emision = emisiones_de_CR[emisiones_de_CR[\"Year\"] == ultimo_año] [\"Value\"].values[0]\n",
                "\n",
                "print(ultima_emision)\n",
                "\n",
                "años_faltantes = 2025 -ultimo_año + 1 #sumo 1 para que se incluya el 2017\n",
                "print(años_faltantes)\n",
                "\n",
                "klton_totales = ultima_emision * años_faltantes\n",
                "print(klton_totales)\n",
                "\n",
                "total_kg = klton_totales * 1000000 #un millón de kg es una klton\n",
                "print(\"Las emisiones de Costa Rica del 2017 al 2025 son:\", total_kg)"
            ]
        },
        {
            "cell_type": "markdown",
            "metadata": {},
            "source": [
                "# Pregunta 11"
            ]
        },
        {
            "cell_type": "markdown",
            "metadata": {
                "azdata_cell_guid": "14dc18b7-8bdb-41a5-a5eb-34da63fef812",
                "id": "6a487c43"
            },
            "source": [
                "Para sólo los países de Centroamérica ['El Salvador', 'Honduras', 'Guatemala', 'Costa Rica', 'Nicaragua'] obtener un reporte por año de las emisiones totales en Centroamérica usando el dataframe 'df_emisions_co2'?\n",
                "Se espera un dataframe de 2 columnas: 'Year' y 'total_por_año'"
            ]
        },
        {
            "cell_type": "code",
            "execution_count": 34,
            "metadata": {
                "azdata_cell_guid": "ba31d64d-a10b-4275-b19e-86f3e18984b6",
                "id": "1d0426bf",
                "language": "python"
            },
            "outputs": [
                {
                    "name": "stdout",
                    "output_type": "stream",
                    "text": [
                        "   Year  total_por_año\n",
                        "0  1975       9860.972\n",
                        "1  1985      10250.333\n",
                        "2  1995      20960.234\n",
                        "3  2005      33562.291\n",
                        "4  2010      34533.555\n",
                        "5  2015      43107.376\n",
                        "6  2016      44366.072\n",
                        "7  2017      43556.261\n"
                    ]
                }
            ],
            "source": [
                "# Coloque el código que responda a la pregunta aqui exactamente lo que se pregunta\n",
                "\n",
                "#Tengo que establecer cuales son los países de CA\n",
                "paises_centroamerica = ['El Salvador', 'Honduras', 'Guatemala', 'Costa Rica', 'Nicaragua']\n",
                "\n",
                "# Filtrar las filas de sólo los países de Centroamérica\n",
                "centroamerica_df = df_emissions_co2[df_emissions_co2['Country'].isin(paises_centroamerica)]\n",
                "\n",
                "# Filtrar por año y después sumo las emisiones por año de todo CA  \n",
                "emisiones_CA = centroamerica_df.groupby('Year')['Value'].sum().reset_index() #esto es para que year no se me corra\n",
                "\n",
                "# Renombrar la columna\n",
                "emisiones_CA.columns = ['Year', 'total_por_año']\n",
                "\n",
                "print(emisiones_CA)\n"
            ]
        },
        {
            "cell_type": "markdown",
            "metadata": {
                "azdata_cell_guid": "77c94d71-c324-4495-88c1-90cb5953b117",
                "id": "8fdaae3d"
            },
            "source": [
                "# Pregunta 12"
            ]
        },
        {
            "cell_type": "markdown",
            "metadata": {
                "azdata_cell_guid": "e4379b6f-d518-49e9-ba6a-181999caae36",
                "id": "8a7e17ff"
            },
            "source": [
                "Para sólo los países de Centroamérica ['El Salvador', 'Honduras', 'Guatemala', 'Costa Rica', 'Nicaragua'] obtener un reporte por año de las emisiones en promedio en Centroamérica usando el dataframe 'df_emisions_co2_per_capita'?\n",
                "Se espera un dataframe de 2 columnas: 'Year' y 'promedio_por_año'"
            ]
        },
        {
            "cell_type": "code",
            "execution_count": 35,
            "metadata": {
                "azdata_cell_guid": "b8107b3d-4b45-45e3-9c3e-2e20c56ed7a9",
                "id": "4ec787f4",
                "language": "python"
            },
            "outputs": [
                {
                    "name": "stdout",
                    "output_type": "stream",
                    "text": [
                        "   Year  promedio_por_año\n",
                        "0  1975            0.5690\n",
                        "1  1985            0.4620\n",
                        "2  1995            0.7626\n",
                        "3  2005            0.9720\n",
                        "4  2010            0.9538\n",
                        "5  2015            1.0572\n",
                        "6  2016            1.0720\n",
                        "7  2017            1.0422\n"
                    ]
                }
            ],
            "source": [
                "# Coloque el código que responda a la pregunta aqui exactamente lo que se pregunta\n",
                "#Ya tengo la lista de países de CA del ejercicio anterior\n",
                "centroamerica_df = df_emissions_co2_per_capita[df_emissions_co2_per_capita['Country'].isin(paises_centroamerica)]\n",
                "\n",
                "promedio_emisiones_CA = centroamerica_df.groupby('Year')['Value'].mean().reset_index()#igual que el anterior pero con promedio \"mean\"\n",
                "\n",
                "\n",
                "promedio_emisiones_CA.columns = ['Year' , 'promedio_por_año']\n",
                "print(promedio_emisiones_CA)"
            ]
        },
        {
            "cell_type": "markdown",
            "metadata": {
                "azdata_cell_guid": "0a62ff93-d68b-48da-b993-51cc40362107",
                "id": "944ac865"
            },
            "source": [
                "# Pregunta 13"
            ]
        },
        {
            "cell_type": "markdown",
            "metadata": {
                "azdata_cell_guid": "3f87f1b5-8bed-42ed-aba4-3b2244324e40",
                "id": "b961da55"
            },
            "source": [
                "Cuál es el promedio de las emisiones per capita para el año 2005 usando el dataframe 'df_emisions_co2_per_capita'?\n"
            ]
        },
        {
            "cell_type": "code",
            "execution_count": 36,
            "metadata": {
                "azdata_cell_guid": "fe76819d-d78b-4923-9982-967e36223207",
                "id": "e2f0a786",
                "language": "python"
            },
            "outputs": [
                {
                    "name": "stdout",
                    "output_type": "stream",
                    "text": [
                        "El promedio de emisiones per cápita en 2005 fue: 5.29775\n"
                    ]
                }
            ],
            "source": [
                "# Coloque el código que responda a la pregunta aqui exactamente lo que se pregunta\n",
                "\n",
                "promedio_2005 = df_emissions_co2_per_capita[df_emissions_co2_per_capita['Year'] == 2005]['Value'].mean()#Filtro las emisiones del 2005 (columna value) y calculo el promedio\n",
                "\n",
                "print(f\"El promedio de emisiones per cápita en 2005 fue:\", promedio_2005)"
            ]
        },
        {
            "cell_type": "markdown",
            "metadata": {},
            "source": [
                "# Pregunta 14\n",
                "\n",
                "Usa el dataframe  'df_emisions_co2_per_capita' con las columnas Year y promedio_por_año para crear una gráfica de líneas que muestre la evolución del promedio de emisiones per cápita en Centroamérica a lo largo del tiempo; el eje X debe ser el año y el eje Y el promedio de emisiones."
            ]
        },
        {
            "cell_type": "code",
            "execution_count": 38,
            "metadata": {},
            "outputs": [
                {
                    "name": "stderr",
                    "output_type": "stream",
                    "text": [
                        "\n",
                        "[notice] A new release of pip is available: 24.3.1 -> 25.0.1\n",
                        "[notice] To update, run: python.exe -m pip install --upgrade pip\n"
                    ]
                },
                {
                    "name": "stdout",
                    "output_type": "stream",
                    "text": [
                        "Requirement already satisfied: matplotlib in c:\\users\\antos\\appdata\\local\\programs\\python\\python313\\lib\\site-packages (3.10.1)\n",
                        "Requirement already satisfied: contourpy>=1.0.1 in c:\\users\\antos\\appdata\\local\\programs\\python\\python313\\lib\\site-packages (from matplotlib) (1.3.2)\n",
                        "Requirement already satisfied: cycler>=0.10 in c:\\users\\antos\\appdata\\local\\programs\\python\\python313\\lib\\site-packages (from matplotlib) (0.12.1)\n",
                        "Requirement already satisfied: fonttools>=4.22.0 in c:\\users\\antos\\appdata\\local\\programs\\python\\python313\\lib\\site-packages (from matplotlib) (4.57.0)\n",
                        "Requirement already satisfied: kiwisolver>=1.3.1 in c:\\users\\antos\\appdata\\local\\programs\\python\\python313\\lib\\site-packages (from matplotlib) (1.4.8)\n",
                        "Requirement already satisfied: numpy>=1.23 in c:\\users\\antos\\appdata\\local\\programs\\python\\python313\\lib\\site-packages (from matplotlib) (2.2.3)\n",
                        "Requirement already satisfied: packaging>=20.0 in c:\\users\\antos\\appdata\\roaming\\python\\python313\\site-packages (from matplotlib) (24.2)\n",
                        "Requirement already satisfied: pillow>=8 in c:\\users\\antos\\appdata\\local\\programs\\python\\python313\\lib\\site-packages (from matplotlib) (11.2.1)\n",
                        "Requirement already satisfied: pyparsing>=2.3.1 in c:\\users\\antos\\appdata\\local\\programs\\python\\python313\\lib\\site-packages (from matplotlib) (3.2.3)\n",
                        "Requirement already satisfied: python-dateutil>=2.7 in c:\\users\\antos\\appdata\\roaming\\python\\python313\\site-packages (from matplotlib) (2.9.0.post0)\n",
                        "Requirement already satisfied: six>=1.5 in c:\\users\\antos\\appdata\\roaming\\python\\python313\\site-packages (from python-dateutil>=2.7->matplotlib) (1.17.0)\n",
                        "Note: you may need to restart the kernel to use updated packages.\n"
                    ]
                },
                {
                    "data": {
                        "image/png": "[encoded data removed]",
                        "text/plain": [
                            "<Figure size 640x480 with 1 Axes>"
                        ]
                    },
                    "metadata": {},
                    "output_type": "display_data"
                }
            ],
            "source": [
                "# Coloque el código que responda a la pregunta aqui exactamente lo que se pregunta\n",
                "\n",
                "%pip install matplotlib\n",
                "\n",
                "import matplotlib.pyplot as plt\n",
                "\n",
                "plt.plot(promedio_emisiones_CA['Year'], promedio_emisiones_CA['promedio_por_año'], marker='o')\n",
                "plt.title('Promedio de emisiones per cápita en Centroamérica por año')\n",
                "plt.xlabel('Año')\n",
                "plt.ylabel('Promedio de emisiones per cápita')\n",
                "plt.grid(True)\n",
                "plt.show()"
            ]
        }
    ],
    "metadata": {
        "colab": {
            "provenance": []
        },
        "kernelspec": {
            "display_name": "Python 3",
            "language": "python",
            "name": "python3"
        },
        "language_info": {
            "codemirror_mode": {
                "name": "ipython",
                "version": 3
            },
            "file_extension": ".py",
            "mimetype": "text/x-python",
            "name": "python",
            "nbconvert_exporter": "python",
            "pygments_lexer": "ipython3",
            "version": "3.13.2"
        }
    },
    "nbformat": 4,
    "nbformat_minor": 2
}
