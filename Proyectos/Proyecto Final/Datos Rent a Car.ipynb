{
 "cells": [
  {
   "cell_type": "markdown",
   "id": "7689890f",
   "metadata": {},
   "source": [
    "# Curso: Fundamentos de Python \n",
    "\n",
    "Profesor: Andrés Mena\n",
    "\n",
    "Estudiante: Antonio Sánchez Zárate \n",
    "\n"
   ]
  },
  {
   "cell_type": "code",
   "execution_count": null,
   "id": "264f0e65",
   "metadata": {},
   "outputs": [],
   "source": [
    "import os\n",
    "\n",
    "\n",
    "def limpiar_pantalla():\n",
    "    \"\"\"Limpia la pantalla de la terminal en ejecución\"\"\"\n",
    "    os.system(\"cls\" if os.name == \"nt\" else \"clear\")\n",
    "\n",
    "\n",
    "\n",
    "def pausar():\n",
    "    input(\"\\n Presione enter para continuar...\")\n",
    "\n",
    "def menu():\n",
    "    while True: \n",
    "        print(\"\\n---- Menú Principal ----\")\n",
    "        print(\"1. Ingresar Ventas de cursos UMCA\")\n",
    "        print(\"2. Guardar datos en un archivo CSV\")\n",
    "        print(\"3. Analizar las ventas\")\n",
    "        print(\"4. Salir\")\n",
    "        opcion = input(\"Ingrese una Opcion: \")\n",
    "        \n",
    "        if opcion == \"1\" :\n",
    "            print(\"\\n---- Ingreso de Ventas de Cursos----\")\n",
    "            ingresar_ventas(ventas)\n",
    "            pausar()\n",
    "        elif opcion == \"2\":\n",
    "            print(\"\\n----Guardar Ventas----\")\n",
    "            pausar()\n",
    "        elif opcion == \"3\":\n",
    "            print(\"\\n---- Análisis de Ventas----\")\n",
    "            pausar()\n",
    "        elif opcion == \"4\":\n",
    "            print(\"\\n Gracias por usar el sistema. Hasta pronto\")  \n",
    "            pausar()\n",
    "            break # Con el break se cierra el sistema del ciclo while\n",
    "        else:\n",
    "            print(\"Opcion no valida. Intente Nuevamente una opcion.\")\n",
    "\n",
    "if __name__ == \"__main__\" :\n",
    "    print (\"Bienvenido al sistema de gestión de Ventas\")\n",
    "    menu()\n",
    "    "
   ]
  }
 ],
 "metadata": {
  "kernelspec": {
   "display_name": "Python 3",
   "language": "python",
   "name": "python3"
  },
  "language_info": {
   "codemirror_mode": {
    "name": "ipython",
    "version": 3
   },
   "file_extension": ".py",
   "mimetype": "text/x-python",
   "name": "python",
   "nbconvert_exporter": "python",
   "pygments_lexer": "ipython3",
   "version": "3.13.2"
  }
 },
 "nbformat": 4,
 "nbformat_minor": 5
}
