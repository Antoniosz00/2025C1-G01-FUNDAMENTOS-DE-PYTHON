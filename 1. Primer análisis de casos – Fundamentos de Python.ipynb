{
 "cells": [
  {
   "cell_type": "markdown",
   "metadata": {
    "id": "q7R3dARlFtDY"
   },
   "source": [
    "# Primer análisis de casos – Fundamentos de Python\n",
    "### Portada:\n",
    "                                                            \"Primer análisis de casos – Fundamentos de Python\"                                                              \n",
    "                                                             \n",
    "                                                              Antonio Sánchez Zárate Nuestro nombre completo.\n",
    "                                                                             \n",
    "                                                                             19 de febrero del 2025\n",
    "                                                                            \n",
    "                                                                             Fundamentod de Python.\n",
    "\n",
    " **Introducción:** \n",
    "\n",
    "Para la realización de esta tarea se escogió los ejercicios 2, 4, 8 y 10. Esto debido a la cotidianidad de las situaciones en estos ejercicios. Al incrementar la velocidad en el análisis de datos las empresas e instituciones pueden tomar mejores y más rápidads decisiones. Además, el aumento en la velocidad de cálculo, permite poder resolver problemas más complicados.\n",
    "\n",
    "\n",
    "\n",
    "\n",
    "## Objetivo:\n",
    "En esta tarea, practicaremos los fundamentos básicos de Python resolviendo **cuatro ejercicios** de la lista planteada. Cada solución debe detallar **entradas**, **procesos** y **salidas** para comprender mejor cómo funciona cada problema.\n",
    "\n",
    "\n",
    "\n",
    "\n",
    "\n",
    "## Lista de ejercicios (Seleccionemos 4):\n",
    "\n",
    "1. Calcular el área de un triángulo a partir de la base y altura ingresadas.\n",
    "2. Convertir una cantidad de dólares a colones.\n",
    "3. Convertir grados centígrados a Fahrenheit.\n",
    "4. Mostrar cuántos segundos tiene un lustro.\n",
    "5. Calcular el tiempo que le toma a la luz viajar del sol a Marte.\n",
    "6. Calcular cuántas vueltas da una llanta en 1 km.\n",
    "7. Calcular la longitud de la sombra de un edificio de 20 metros.\n",
    "8. Comparar si la edad ingresada por dos usuarios es la misma.\n",
    "9. Calcular cuántos meses han transcurrido desde nuestra fecha de nacimiento.\n",
    "10. Calcular el promedio de un alumno en 5 materias.\n",
    "\n",
    "\n"
   ]
  },
  {
   "cell_type": "markdown",
   "metadata": {},
   "source": [
    "# Problema #1\n",
    "\n",
    "### Convertir una cantidad de dólares a colones.\n",
    "\n",
    "## Entrada: \n",
    "Leer La cantidad de dolares\n",
    "Leer tipo cambio\n",
    "\n",
    "## Proceso:\n",
    "\n",
    "cantidad_dolares * tipo_cambio\n",
    "\n",
    "## Salida:\n",
    "\n",
    "resultado de la multiplicacion"
   ]
  },
  {
   "cell_type": "code",
   "execution_count": 19,
   "metadata": {},
   "outputs": [
    {
     "name": "stdout",
     "output_type": "stream",
     "text": [
      "19960.0\n"
     ]
    }
   ],
   "source": [
    "# Autor: Antonio Sánchez \n",
    "Monto_en_dolares = float(input(\"Digite el monto en dolares: \"))\n",
    "tipo_de_cambio = 499\n",
    "\n",
    "Monto_en_colones = print(Monto_en_dolares * tipo_de_cambio)\n"
   ]
  },
  {
   "cell_type": "markdown",
   "metadata": {},
   "source": [
    "# Problema #2\n",
    "\n",
    "### Definir problema\n",
    "Comparar si la edad ingresada por dos usuarios es la misma\n",
    "\n",
    "## Entrada:\n",
    "edad de usuario1 y edad de usuario2\n",
    "## Proceso:\n",
    "edad de usuario1 - edad usuario2 \n",
    "Si el resultado es igual a cero, entonces es la misma edad\n",
    "## Salida:\n",
    "Mensaje diciendo si las edades son iguales o no"
   ]
  },
  {
   "cell_type": "code",
   "execution_count": 18,
   "metadata": {},
   "outputs": [
    {
     "name": "stdout",
     "output_type": "stream",
     "text": [
      "Los usuarios tienen la misma edad\n"
     ]
    }
   ],
   "source": [
    "\n",
    "#Autor: Antonio Sánchez \n",
    "edad_usuario1 = int(input(\"Introduzca su edad: \"))\n",
    "edad_usuario2 = int(input(\"Introduzca su edad: \"))\n",
    "\n",
    "diferencia = edad_usuario1 - edad_usuario2\n",
    "\n",
    "if diferencia == 0 :\n",
    "   print(\"Los usuarios tienen la misma edad\")\n",
    "else: \n",
    "   print(\"Las edades de los usuarios no son iguales\")"
   ]
  },
  {
   "cell_type": "markdown",
   "metadata": {},
   "source": [
    "# Problema #3\n",
    "\n",
    "\n",
    "### Definir problema\n",
    "\n",
    " Calcular el promedio de un alumno en 5 materias.\n",
    "## Entrada:\n",
    "Determinar las notas de las 5 materias \n",
    "## Proceso:\n",
    "calcular el promedio de las 5 notas\n",
    "## Salida:\n",
    "El promedio del estudiante"
   ]
  },
  {
   "cell_type": "code",
   "execution_count": 1,
   "metadata": {},
   "outputs": [
    {
     "name": "stdout",
     "output_type": "stream",
     "text": [
      "La nota final es:  83.6\n"
     ]
    }
   ],
   "source": [
    "# Autor: Antonio Sánchez \n",
    "nota1 = float(input(\"¿Cual es la nota de matemáticas?\"))\n",
    "nota2 = float(input(\"¿Cual es la nota de ingles?\"))\n",
    "nota3 = float(input(\"¿Cual es la nota de Estudios Sociales?\"))\n",
    "nota4 = float(input(\"¿Cual es la nota de Francés?\"))\n",
    "nota5 = float(input(\"¿Cual es la nota de Biología?\"))\n",
    "\n",
    "notas = (nota1, nota2, nota3, nota4, nota5)\n",
    "promedio = sum(notas) / len(notas)\n",
    "print(\"La nota final es: \", promedio)"
   ]
  },
  {
   "cell_type": "markdown",
   "metadata": {},
   "source": [
    "# Problema #4\n",
    "\n",
    "### Definir problema\n",
    "\n",
    " Mostrar cuántos segundos tiene un lustro.\n",
    "\n",
    "## Entrada:\n",
    "Cúantos segundos tiene un Lustro?\n",
    "\n",
    "## Proceso:\n",
    "Desglosar la duración de un lustro desde los años hasta los segundos\n",
    "## Salida:\n",
    "La duración de un lustro en segundos"
   ]
  },
  {
   "cell_type": "code",
   "execution_count": 3,
   "metadata": {},
   "outputs": [
    {
     "name": "stdout",
     "output_type": "stream",
     "text": [
      "Un lustro tiene 157680000 segundos\n"
     ]
    }
   ],
   "source": [
    "# Autor: Antonio Sánchez\n",
    "\n",
    "segundos_en_un_minuto = 60\n",
    "minuto_en_una_hora = 60\n",
    "horas_al_día = 24\n",
    "días_al_año = 365\n",
    "años_por_lustro = 5\n",
    "\n",
    "segundos_por_lustro = años_por_lustro * días_al_año * horas_al_día * minuto_en_una_hora * segundos_en_un_minuto\n",
    "\n",
    "print (f\"Un lustro tiene {segundos_por_lustro} segundos\")\n"
   ]
  },
  {
   "cell_type": "markdown",
   "metadata": {},
   "source": [
    "### Conclusión:\n",
    " \n",
    " El poder automatizar procesos y análisis de datos puede ser muy útil en el ámbito empresarial. El ejercicio 8 ejemplifica como se podría agrupar usuarios de mismos grupos etarios. Esto podría usarse para ofrecerles productos más acordes a las necesidades y preferencias que puedan tener basándonos en la edad."
   ]
  }
 ],
 "metadata": {
  "colab": {
   "provenance": []
  },
  "kernelspec": {
   "display_name": "Python 3",
   "name": "python3"
  },
  "language_info": {
   "codemirror_mode": {
    "name": "ipython",
    "version": 3
   },
   "file_extension": ".py",
   "mimetype": "text/x-python",
   "name": "python",
   "nbconvert_exporter": "python",
   "pygments_lexer": "ipython3",
   "version": "3.13.2"
  }
 },
 "nbformat": 4,
 "nbformat_minor": 0
}
